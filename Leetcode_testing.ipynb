{
 "cells": [
  {
   "cell_type": "code",
   "execution_count": 42,
   "metadata": {},
   "outputs": [],
   "source": [
    "# A = list of integers\n",
    "# K = Integer\n",
    "\n",
    "def addToArrayForm(A, K):\n",
    "    decimal_step = 1\n",
    "    my_integer = 0\n",
    "    output_list = []\n",
    "    for number in A[::-1]:\n",
    "        my_integer = my_integer + number * decimal_step\n",
    "        decimal_step = decimal_step * 10\n",
    "    \n",
    "    new_number = my_integer + K\n",
    "    integer_string = str(new_number)\n",
    "    for number in integer_string:\n",
    "        output_list.append(int(number))\n",
    "        \n",
    "    return output_list \n",
    "\n",
    "\n"
   ]
  },
  {
   "cell_type": "code",
   "execution_count": 43,
   "metadata": {},
   "outputs": [
    {
     "data": {
      "text/plain": [
       "[7, 9, 1, 3, 5, 7, 6]"
      ]
     },
     "execution_count": 43,
     "metadata": {},
     "output_type": "execute_result"
    }
   ],
   "source": [
    "addToArrayForm([7,9,1,2,3,4,2],1234)"
   ]
  },
  {
   "cell_type": "markdown",
   "metadata": {},
   "source": [
    "Two Sum\n",
    "Given an array of integers, return indices of the two numbers such that they add up to a specific target.\n",
    "You may assume that each input would have exactly one solution, and you may not use the same element twice.\n",
    "Example:\n",
    "Given nums = [2, 7, 11, 15], target = 9,\n",
    "Because nums[0] + nums[1] = 2 + 7 = 9, return [0, 1].\n",
    "nums: 'List[int]'\n",
    "target: 'int'"
   ]
  },
  {
   "cell_type": "code",
   "execution_count": 144,
   "metadata": {},
   "outputs": [],
   "source": [
    "def twoSum(nums,target):\n",
    "    result_list = []\n",
    "    counter = len(nums)\n",
    "    for i in range(0,counter-1):\n",
    "        for j in range(i+1,counter):\n",
    "            if (nums[i] + nums[j] == target):\n",
    "                result_list = [i,j]\n",
    "    return result_list\n",
    "        "
   ]
  },
  {
   "cell_type": "code",
   "execution_count": 146,
   "metadata": {},
   "outputs": [
    {
     "data": {
      "text/plain": [
       "[]"
      ]
     },
     "execution_count": 146,
     "metadata": {},
     "output_type": "execute_result"
    }
   ],
   "source": [
    "twoSum([2,7,11,15],10)"
   ]
  },
  {
   "cell_type": "code",
   "execution_count": 246,
   "metadata": {},
   "outputs": [],
   "source": [
    "def reverse(x):\n",
    "    result = 0\n",
    "    top = int((2**31)-1)\n",
    "    bottom = int(-2**31)\n",
    "    my_range = range(bottom,top)\n",
    "    if x >= 0:\n",
    "        result = int(str(x)[::-1])\n",
    "        if result in my_range:\n",
    "            return result\n",
    "        else:\n",
    "            return 0\n",
    "    x = x * (-1)\n",
    "    result = (-1)* int(str(x)[::-1])\n",
    "    if result in my_range:\n",
    "        return result\n",
    "    return 0"
   ]
  },
  {
   "cell_type": "code",
   "execution_count": 247,
   "metadata": {},
   "outputs": [
    {
     "name": "stdout",
     "output_type": "stream",
     "text": [
      "-321\n"
     ]
    }
   ],
   "source": [
    "print(reverse(-123))\n"
   ]
  },
  {
   "cell_type": "code",
   "execution_count": 499,
   "metadata": {},
   "outputs": [],
   "source": [
    "# def isPalindrome(self, x: 'int') -> 'bool':\n",
    "def isPalindrome(x):\n",
    "    deci_step = 1\n",
    "    number_len = 0\n",
    "    palin_num = 0\n",
    "    if x < 0 or x == 10:\n",
    "        return False\n",
    "    if x == 0:\n",
    "        return True\n",
    "    while (x / (deci_step) > 1):\n",
    "        number_len = number_len +1\n",
    "        deci_step = deci_step * 10\n",
    "        #print('number_len ', number_len)\n",
    "        #print('decistep ', deci_step)\n",
    "    \n",
    "    deci_step = deci_step / 10\n",
    "  \n",
    "    new_x = x\n",
    "    \n",
    "    for i in range(0,number_len):\n",
    "        print('====== Round ',i)\n",
    "        print('new_x: ',new_x)\n",
    "        print('decistep ', deci_step)\n",
    "        next_palin_digit = int(new_x / deci_step) * 10**i\n",
    "        print('next_palin_digit: ',next_palin_digit)\n",
    "        \n",
    "        palin_num = palin_num + next_palin_digit\n",
    "        \n",
    "        print('palin_num ',palin_num)\n",
    "        \n",
    "        new_x = new_x - int(new_x / deci_step) * deci_step\n",
    "        \n",
    "        deci_step = deci_step / 10\n",
    "        \n",
    "        print('new x: ', new_x)\n",
    "        print('new decistep ', deci_step)\n",
    "    return palin_num == x"
   ]
  },
  {
   "cell_type": "code",
   "execution_count": 500,
   "metadata": {},
   "outputs": [
    {
     "data": {
      "text/plain": [
       "False"
      ]
     },
     "execution_count": 500,
     "metadata": {},
     "output_type": "execute_result"
    }
   ],
   "source": [
    "isPalindrome(10)"
   ]
  },
  {
   "cell_type": "code",
   "execution_count": 475,
   "metadata": {},
   "outputs": [],
   "source": [
    "def isPalindrome(x):\n",
    "    deci_step = 1\n",
    "    number_len = 0\n",
    "    palin_num = 0\n",
    "    if x < 0:\n",
    "        return False\n",
    "    if x == 0:    \n",
    "        return True\n",
    "    while (x / (deci_step) > 1):\n",
    "        number_len = number_len +1\n",
    "        deci_step = deci_step * 10\n",
    "    deci_step = deci_step / 10\n",
    "    new_x = x\n",
    "    for i in range(0,number_len):\n",
    "        next_palin_digit = int(new_x / deci_step) * 10**i\n",
    "        palin_num = palin_num + next_palin_digit\n",
    "        new_x = new_x - int(new_x / deci_step) * deci_step\n",
    "        deci_step = deci_step / 10\n",
    "    return palin_num == x"
   ]
  },
  {
   "cell_type": "code",
   "execution_count": 479,
   "metadata": {},
   "outputs": [
    {
     "data": {
      "text/plain": [
       "True"
      ]
     },
     "execution_count": 479,
     "metadata": {},
     "output_type": "execute_result"
    }
   ],
   "source": [
    "isPalindrome(10)"
   ]
  },
  {
   "cell_type": "code",
   "execution_count": 1,
   "metadata": {},
   "outputs": [
    {
     "data": {
      "text/plain": [
       "3"
      ]
     },
     "execution_count": 1,
     "metadata": {},
     "output_type": "execute_result"
    }
   ],
   "source": [
    "int(12345 / 10**2 % 10)"
   ]
  },
  {
   "cell_type": "code",
   "execution_count": 151,
   "metadata": {},
   "outputs": [],
   "source": [
    "def Intergertoroman(num):\n",
    "    roman_conv = [(3000,'MMM'), (2000,'MM'),(1000,'M'),(900,'CM'),(800,'DCCC'),(700,'DCC'),(600,'DC'),(500,'D'),\n",
    "                  (400,'CD'),(300, 'CCC'),(200,'CC'),(100,'C'),(90,'XC'),(80,'LXXX'),(70,'LXX'),(60,'LX'),\n",
    "                    (50,'L'),(40,'XL'),(30,'XXX'),(20,'XX'),(10,'X'),(9,'IX'),(8,'VIII'),(7,'VII'),(6,'VI'),\n",
    "                  (5,'V'),(4,'IV'),(3,'III'),(2,'II'),(1,'I'),(0,'')]\n",
    "    roman_number = ''\n",
    "    if (num > 3990 and num < 0):\n",
    "        return 0\n",
    "    number = []\n",
    "    digits = len(str(num))\n",
    "    for i in reversed(range(0,digits)):\n",
    "        number.append(int(num/10**i%10))\n",
    "    number = list(reversed(number))\n",
    "    counter = 0\n",
    "    for single_digit in number:\n",
    "        x = [item for item in roman_conv if item[0] == single_digit * 10 ** counter]\n",
    "        counter = counter + 1\n",
    "        #if single_digit == 0:\n",
    "         #   pass\n",
    "        roman_number = x[0][1] + roman_number\n",
    "    return roman_number"
   ]
  },
  {
   "cell_type": "code",
   "execution_count": 152,
   "metadata": {},
   "outputs": [
    {
     "data": {
      "text/plain": [
       "'CCII'"
      ]
     },
     "execution_count": 152,
     "metadata": {},
     "output_type": "execute_result"
    }
   ],
   "source": [
    "Intergertoroman(202)"
   ]
  },
  {
   "cell_type": "code",
   "execution_count": 214,
   "metadata": {},
   "outputs": [],
   "source": [
    "def Romantointeger(s):\n",
    "    roman_conv = [(3000,'MMM'), (2000,'MM'),(1000,'M'),(900,'CM'),(800,'DCCC'),(700,'DCC'),(600,'DC'),(500,'D'),\n",
    "                  (400,'CD'),(300, 'CCC'),(200,'CC'),(100,'C'),(90,'XC'),(80,'LXXX'),(70,'LXX'),(60,'LX'),\n",
    "                    (50,'L'),(40,'XL'),(30,'XXX'),(20,'XX'),(10,'X'),(9,'IX'),(8,'VIII'),(7,'VII'),(6,'VI'),\n",
    "                  (5,'V'),(4,'IV'),(3,'III'),(2,'II'),(1,'I')]\n",
    "    integer_number = 0\n",
    "    while s != '':\n",
    "        x = [item for item in roman_conv if item[1] == s[0]]\n",
    "        int_x = x[0][0]\n",
    "        if len(s) > 1:\n",
    "            if s[0] == 'I' and (s[1] == 'V' or s[1] == 'X'):\n",
    "                int_x = -int_x\n",
    "            if s[0] == 'X' and (s[1] == 'L' or s[1] == 'C'):\n",
    "                int_x = -int_x\n",
    "            if s[0] == 'C' and (s[1] == 'D' or s[1] == 'M'):\n",
    "                int_x = -int_x\n",
    "        integer_number = integer_number + int_x\n",
    "        s = s[1:]\n",
    "    return integer_number"
   ]
  },
  {
   "cell_type": "code",
   "execution_count": 215,
   "metadata": {},
   "outputs": [
    {
     "data": {
      "text/plain": [
       "1994"
      ]
     },
     "execution_count": 215,
     "metadata": {},
     "output_type": "execute_result"
    }
   ],
   "source": [
    "Romantointeger(\"MCMXCIV\")"
   ]
  },
  {
   "cell_type": "code",
   "execution_count": 200,
   "metadata": {},
   "outputs": [
    {
     "data": {
      "text/plain": [
       "'MMM'"
      ]
     },
     "execution_count": 200,
     "metadata": {},
     "output_type": "execute_result"
    }
   ],
   "source": [
    "roman_conv[0][1]"
   ]
  },
  {
   "cell_type": "code",
   "execution_count": null,
   "metadata": {},
   "outputs": [],
   "source": []
  }
 ],
 "metadata": {
  "kernelspec": {
   "display_name": "Python 3",
   "language": "python",
   "name": "python3"
  },
  "language_info": {
   "codemirror_mode": {
    "name": "ipython",
    "version": 3
   },
   "file_extension": ".py",
   "mimetype": "text/x-python",
   "name": "python",
   "nbconvert_exporter": "python",
   "pygments_lexer": "ipython3",
   "version": "3.6.8"
  }
 },
 "nbformat": 4,
 "nbformat_minor": 2
}
