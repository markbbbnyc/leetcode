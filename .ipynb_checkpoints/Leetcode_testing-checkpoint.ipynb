{
 "cells": [
  {
   "cell_type": "code",
   "execution_count": 42,
   "metadata": {},
   "outputs": [],
   "source": [
    "# A = list of integers\n",
    "# K = Integer\n",
    "\n",
    "def addToArrayForm(A, K):\n",
    "    decimal_step = 1\n",
    "    my_integer = 0\n",
    "    output_list = []\n",
    "    for number in A[::-1]:\n",
    "        my_integer = my_integer + number * decimal_step\n",
    "        decimal_step = decimal_step * 10\n",
    "    \n",
    "    new_number = my_integer + K\n",
    "    integer_string = str(new_number)\n",
    "    for number in integer_string:\n",
    "        output_list.append(int(number))\n",
    "        \n",
    "    return output_list \n",
    "\n",
    "\n"
   ]
  },
  {
   "cell_type": "code",
   "execution_count": 43,
   "metadata": {},
   "outputs": [
    {
     "data": {
      "text/plain": [
       "[7, 9, 1, 3, 5, 7, 6]"
      ]
     },
     "execution_count": 43,
     "metadata": {},
     "output_type": "execute_result"
    }
   ],
   "source": [
    "addToArrayForm([7,9,1,2,3,4,2],1234)"
   ]
  },
  {
   "cell_type": "markdown",
   "metadata": {},
   "source": [
    "Two Sum\n",
    "Given an array of integers, return indices of the two numbers such that they add up to a specific target.\n",
    "You may assume that each input would have exactly one solution, and you may not use the same element twice.\n",
    "Example:\n",
    "Given nums = [2, 7, 11, 15], target = 9,\n",
    "Because nums[0] + nums[1] = 2 + 7 = 9, return [0, 1].\n",
    "nums: 'List[int]'\n",
    "target: 'int'"
   ]
  },
  {
   "cell_type": "code",
   "execution_count": 144,
   "metadata": {},
   "outputs": [],
   "source": [
    "def twoSum(nums,target):\n",
    "    result_list = []\n",
    "    counter = len(nums)\n",
    "    for i in range(0,counter-1):\n",
    "        for j in range(i+1,counter):\n",
    "            if (nums[i] + nums[j] == target):\n",
    "                result_list = [i,j]\n",
    "    return result_list\n",
    "        "
   ]
  },
  {
   "cell_type": "code",
   "execution_count": 146,
   "metadata": {},
   "outputs": [
    {
     "data": {
      "text/plain": [
       "[]"
      ]
     },
     "execution_count": 146,
     "metadata": {},
     "output_type": "execute_result"
    }
   ],
   "source": [
    "twoSum([2,7,11,15],10)"
   ]
  },
  {
   "cell_type": "code",
   "execution_count": 246,
   "metadata": {},
   "outputs": [],
   "source": [
    "def reverse(x):\n",
    "    result = 0\n",
    "    top = int((2**31)-1)\n",
    "    bottom = int(-2**31)\n",
    "    my_range = range(bottom,top)\n",
    "    if x >= 0:\n",
    "        result = int(str(x)[::-1])\n",
    "        if result in my_range:\n",
    "            return result\n",
    "        else:\n",
    "            return 0\n",
    "    x = x * (-1)\n",
    "    result = (-1)* int(str(x)[::-1])\n",
    "    if result in my_range:\n",
    "        return result\n",
    "    return 0"
   ]
  },
  {
   "cell_type": "code",
   "execution_count": 247,
   "metadata": {},
   "outputs": [
    {
     "name": "stdout",
     "output_type": "stream",
     "text": [
      "-321\n"
     ]
    }
   ],
   "source": [
    "print(reverse(-123))\n"
   ]
  },
  {
   "cell_type": "code",
   "execution_count": 499,
   "metadata": {},
   "outputs": [],
   "source": [
    "# def isPalindrome(self, x: 'int') -> 'bool':\n",
    "def isPalindrome(x):\n",
    "    deci_step = 1\n",
    "    number_len = 0\n",
    "    palin_num = 0\n",
    "    if x < 0 or x == 10:\n",
    "        return False\n",
    "    if x == 0:\n",
    "        return True\n",
    "    while (x / (deci_step) > 1):\n",
    "        number_len = number_len +1\n",
    "        deci_step = deci_step * 10\n",
    "        #print('number_len ', number_len)\n",
    "        #print('decistep ', deci_step)\n",
    "    \n",
    "    deci_step = deci_step / 10\n",
    "  \n",
    "    new_x = x\n",
    "    \n",
    "    for i in range(0,number_len):\n",
    "        print('====== Round ',i)\n",
    "        print('new_x: ',new_x)\n",
    "        print('decistep ', deci_step)\n",
    "        next_palin_digit = int(new_x / deci_step) * 10**i\n",
    "        print('next_palin_digit: ',next_palin_digit)\n",
    "        \n",
    "        palin_num = palin_num + next_palin_digit\n",
    "        \n",
    "        print('palin_num ',palin_num)\n",
    "        \n",
    "        new_x = new_x - int(new_x / deci_step) * deci_step\n",
    "        \n",
    "        deci_step = deci_step / 10\n",
    "        \n",
    "        print('new x: ', new_x)\n",
    "        print('new decistep ', deci_step)\n",
    "    return palin_num == x"
   ]
  },
  {
   "cell_type": "code",
   "execution_count": 500,
   "metadata": {},
   "outputs": [
    {
     "data": {
      "text/plain": [
       "False"
      ]
     },
     "execution_count": 500,
     "metadata": {},
     "output_type": "execute_result"
    }
   ],
   "source": [
    "isPalindrome(10)"
   ]
  },
  {
   "cell_type": "code",
   "execution_count": 475,
   "metadata": {},
   "outputs": [],
   "source": [
    "def isPalindrome(x):\n",
    "    deci_step = 1\n",
    "    number_len = 0\n",
    "    palin_num = 0\n",
    "    if x < 0:\n",
    "        return False\n",
    "    if x == 0:    \n",
    "        return True\n",
    "    while (x / (deci_step) > 1):\n",
    "        number_len = number_len +1\n",
    "        deci_step = deci_step * 10\n",
    "    deci_step = deci_step / 10\n",
    "    new_x = x\n",
    "    for i in range(0,number_len):\n",
    "        next_palin_digit = int(new_x / deci_step) * 10**i\n",
    "        palin_num = palin_num + next_palin_digit\n",
    "        new_x = new_x - int(new_x / deci_step) * deci_step\n",
    "        deci_step = deci_step / 10\n",
    "    return palin_num == x"
   ]
  },
  {
   "cell_type": "code",
   "execution_count": 479,
   "metadata": {},
   "outputs": [
    {
     "data": {
      "text/plain": [
       "True"
      ]
     },
     "execution_count": 479,
     "metadata": {},
     "output_type": "execute_result"
    }
   ],
   "source": [
    "isPalindrome(10)"
   ]
  },
  {
   "cell_type": "code",
   "execution_count": null,
   "metadata": {},
   "outputs": [],
   "source": []
  }
 ],
 "metadata": {
  "kernelspec": {
   "display_name": "Python 3",
   "language": "python",
   "name": "python3"
  },
  "language_info": {
   "codemirror_mode": {
    "name": "ipython",
    "version": 3
   },
   "file_extension": ".py",
   "mimetype": "text/x-python",
   "name": "python",
   "nbconvert_exporter": "python",
   "pygments_lexer": "ipython3",
   "version": "3.6.8"
  }
 },
 "nbformat": 4,
 "nbformat_minor": 2
}
